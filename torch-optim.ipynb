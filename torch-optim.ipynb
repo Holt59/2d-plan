{
 "cells": [
  {
   "cell_type": "code",
   "execution_count": 6,
   "id": "4afb0782",
   "metadata": {},
   "outputs": [
    {
     "data": {
      "application/javascript": [
       "\n",
       "            setTimeout(function() {\n",
       "                var nbb_cell_id = 6;\n",
       "                var nbb_unformatted_code = \"%load_ext nb_black\";\n",
       "                var nbb_formatted_code = \"%load_ext nb_black\";\n",
       "                var nbb_cells = Jupyter.notebook.get_cells();\n",
       "                for (var i = 0; i < nbb_cells.length; ++i) {\n",
       "                    if (nbb_cells[i].input_prompt_number == nbb_cell_id) {\n",
       "                        if (nbb_cells[i].get_text() == nbb_unformatted_code) {\n",
       "                             nbb_cells[i].set_text(nbb_formatted_code);\n",
       "                        }\n",
       "                        break;\n",
       "                    }\n",
       "                }\n",
       "            }, 500);\n",
       "            "
      ],
      "text/plain": [
       "<IPython.core.display.Javascript object>"
      ]
     },
     "metadata": {},
     "output_type": "display_data"
    }
   ],
   "source": [
    "%load_ext nb_black"
   ]
  },
  {
   "cell_type": "code",
   "execution_count": 1,
   "id": "c76f09d0",
   "metadata": {},
   "outputs": [],
   "source": [
    "import torch\n",
    "from tqdm.autonotebook import tqdm, trange\n",
    "import yaml"
   ]
  },
  {
   "cell_type": "code",
   "execution_count": 20,
   "id": "e330b882",
   "metadata": {},
   "outputs": [
    {
     "data": {
      "application/javascript": [
       "\n",
       "            setTimeout(function() {\n",
       "                var nbb_cell_id = 20;\n",
       "                var nbb_unformatted_code = \"def load(path):\\n    with open(path) as fp:\\n        data = yaml.load(fp, Loader=yaml.CSafeLoader)\\n\\n    pts = sorted(data[\\\"points\\\"].keys())\\n    p2i = {k: i for i, k in enumerate(pts)}\\n\\n    points = [[data[\\\"points\\\"][i][\\\"x\\\"], data[\\\"points\\\"][i][\\\"y\\\"]] for i in pts]\\n\\n    distances = {(p2i[d[\\\"from\\\"]], p2i[d[\\\"to\\\"]]): d[\\\"d\\\"] for d in data[\\\"distances\\\"]}\\n\\n    return points, distances\";\n",
       "                var nbb_formatted_code = \"def load(path):\\n    with open(path) as fp:\\n        data = yaml.load(fp, Loader=yaml.CSafeLoader)\\n\\n    pts = sorted(data[\\\"points\\\"].keys())\\n    p2i = {k: i for i, k in enumerate(pts)}\\n\\n    points = [[data[\\\"points\\\"][i][\\\"x\\\"], data[\\\"points\\\"][i][\\\"y\\\"]] for i in pts]\\n\\n    distances = {(p2i[d[\\\"from\\\"]], p2i[d[\\\"to\\\"]]): d[\\\"d\\\"] for d in data[\\\"distances\\\"]}\\n\\n    return points, distances\";\n",
       "                var nbb_cells = Jupyter.notebook.get_cells();\n",
       "                for (var i = 0; i < nbb_cells.length; ++i) {\n",
       "                    if (nbb_cells[i].input_prompt_number == nbb_cell_id) {\n",
       "                        if (nbb_cells[i].get_text() == nbb_unformatted_code) {\n",
       "                             nbb_cells[i].set_text(nbb_formatted_code);\n",
       "                        }\n",
       "                        break;\n",
       "                    }\n",
       "                }\n",
       "            }, 500);\n",
       "            "
      ],
      "text/plain": [
       "<IPython.core.display.Javascript object>"
      ]
     },
     "metadata": {},
     "output_type": "display_data"
    }
   ],
   "source": [
    "def load(path):\n",
    "    with open(path) as fp:\n",
    "        data = yaml.load(fp, Loader=yaml.CSafeLoader)\n",
    "\n",
    "    pts = sorted(data[\"points\"].keys())\n",
    "    p2i = {k: i for i, k in enumerate(pts)}\n",
    "\n",
    "    points = [[data[\"points\"][i][\"x\"], data[\"points\"][i][\"y\"]] for i in pts]\n",
    "\n",
    "    distances = {(p2i[d[\"from\"]], p2i[d[\"to\"]]): d[\"d\"] for d in data[\"distances\"]}\n",
    "\n",
    "    return points, distances"
   ]
  },
  {
   "cell_type": "code",
   "execution_count": 22,
   "id": "4a59b1d1",
   "metadata": {},
   "outputs": [
    {
     "data": {
      "application/javascript": [
       "\n",
       "            setTimeout(function() {\n",
       "                var nbb_cell_id = 22;\n",
       "                var nbb_unformatted_code = \"# load points and distances (no lock\\npoints, distances = load(\\\"./terrasse.yml\\\")\\n\\n# number of iterations\\nn_iterations = 5000\";\n",
       "                var nbb_formatted_code = \"# load points and distances (no lock\\npoints, distances = load(\\\"./terrasse.yml\\\")\\n\\n# number of iterations\\nn_iterations = 5000\";\n",
       "                var nbb_cells = Jupyter.notebook.get_cells();\n",
       "                for (var i = 0; i < nbb_cells.length; ++i) {\n",
       "                    if (nbb_cells[i].input_prompt_number == nbb_cell_id) {\n",
       "                        if (nbb_cells[i].get_text() == nbb_unformatted_code) {\n",
       "                             nbb_cells[i].set_text(nbb_formatted_code);\n",
       "                        }\n",
       "                        break;\n",
       "                    }\n",
       "                }\n",
       "            }, 500);\n",
       "            "
      ],
      "text/plain": [
       "<IPython.core.display.Javascript object>"
      ]
     },
     "metadata": {},
     "output_type": "display_data"
    }
   ],
   "source": [
    "# load points and distances (no lock\n",
    "points, distances = load(\"./terrasse.yml\")\n",
    "\n",
    "# number of iterations\n",
    "n_iterations = 5000"
   ]
  },
  {
   "cell_type": "code",
   "execution_count": 48,
   "id": "6427ee48",
   "metadata": {},
   "outputs": [
    {
     "data": {
      "application/vnd.jupyter.widget-view+json": {
       "model_id": "78aa38a014524ea18a18850b3baaa67d",
       "version_major": 2,
       "version_minor": 0
      },
      "text/plain": [
       "  0%|          | 0/5000 [00:00<?, ?it/s]"
      ]
     },
     "metadata": {},
     "output_type": "display_data"
    },
    {
     "name": "stdout",
     "output_type": "stream",
     "text": [
      "===\n",
      "min. = 0.0006171607971190429, max. = 0.05245639801025348, sum. = 0.3547315931320201\n",
      "tensor([[-8.3360e-02, -5.3907e-02],\n",
      "        [ 3.8064e-03,  1.8047e+00],\n",
      "        [ 3.9424e+00,  1.8412e+00],\n",
      "        [ 3.9264e+00,  3.7493e+00],\n",
      "        [ 6.8665e+00,  3.8576e+00],\n",
      "        [ 8.9221e+00,  3.7937e+00],\n",
      "        [ 9.0355e+00,  5.9219e+00],\n",
      "        [ 1.0619e+01,  5.8389e+00],\n",
      "        [ 1.0448e+01,  9.6485e-02]], requires_grad=True)\n"
     ]
    },
    {
     "data": {
      "application/javascript": [
       "\n",
       "            setTimeout(function() {\n",
       "                var nbb_cell_id = 48;\n",
       "                var nbb_unformatted_code = \"import numpy as np\\n\\n# create tensor of points\\nx = torch.tensor(points).requires_grad_(True)\\n\\n# create the target tensor\\ntarget = torch.tensor(list(distances.values()), dtype=torch.float)\\n\\n\\ndef loss_fn(x):\\n    d = torch.sqrt(\\n        torch.sum(torch.pow(x[list(distances.keys()), :].diff(axis=1), 2), axis=-1)\\n    ).squeeze()\\n    return d, torch.nn.functional.mse_loss(d, target)\\n\\n\\noptimizer = torch.optim.SGD([x], lr=0.01, momentum=0.9)\\n\\n# optimization loop\\ntq = trange(n_iterations)\\nfor i in tq:\\n    optimizer.zero_grad()\\n    d, loss = loss_fn(x)\\n\\n    if i % 50 == 0:\\n        tq.set_postfix({\\\"loss\\\": loss.detach().numpy(), \\\"distances\\\": d.detach().numpy()})\\n\\n    loss.backward()\\n    optimizer.step()\\n\\ndiffs = {}\\nfor (i, j), d in distances.items():\\n    diffs[i, j] = abs(torch.nn.functional.pdist(x[[i, j], :]).item() - d)\\n\\nndiffs = np.array(list(diffs.values()))\\nprint(\\\"===\\\")\\nprint(\\n    \\\"min. = {}, max. = {}, sum. = {}\\\".format(ndiffs.min(), ndiffs.max(), ndiffs.sum())\\n)\\n\\nprint(x)\";\n",
       "                var nbb_formatted_code = \"import numpy as np\\n\\n# create tensor of points\\nx = torch.tensor(points).requires_grad_(True)\\n\\n# create the target tensor\\ntarget = torch.tensor(list(distances.values()), dtype=torch.float)\\n\\n\\ndef loss_fn(x):\\n    d = torch.sqrt(\\n        torch.sum(torch.pow(x[list(distances.keys()), :].diff(axis=1), 2), axis=-1)\\n    ).squeeze()\\n    return d, torch.nn.functional.mse_loss(d, target)\\n\\n\\noptimizer = torch.optim.SGD([x], lr=0.01, momentum=0.9)\\n\\n# optimization loop\\ntq = trange(n_iterations)\\nfor i in tq:\\n    optimizer.zero_grad()\\n    d, loss = loss_fn(x)\\n\\n    if i % 50 == 0:\\n        tq.set_postfix({\\\"loss\\\": loss.detach().numpy(), \\\"distances\\\": d.detach().numpy()})\\n\\n    loss.backward()\\n    optimizer.step()\\n\\ndiffs = {}\\nfor (i, j), d in distances.items():\\n    diffs[i, j] = abs(torch.nn.functional.pdist(x[[i, j], :]).item() - d)\\n\\nndiffs = np.array(list(diffs.values()))\\nprint(\\\"===\\\")\\nprint(\\n    \\\"min. = {}, max. = {}, sum. = {}\\\".format(ndiffs.min(), ndiffs.max(), ndiffs.sum())\\n)\\n\\nprint(x)\";\n",
       "                var nbb_cells = Jupyter.notebook.get_cells();\n",
       "                for (var i = 0; i < nbb_cells.length; ++i) {\n",
       "                    if (nbb_cells[i].input_prompt_number == nbb_cell_id) {\n",
       "                        if (nbb_cells[i].get_text() == nbb_unformatted_code) {\n",
       "                             nbb_cells[i].set_text(nbb_formatted_code);\n",
       "                        }\n",
       "                        break;\n",
       "                    }\n",
       "                }\n",
       "            }, 500);\n",
       "            "
      ],
      "text/plain": [
       "<IPython.core.display.Javascript object>"
      ]
     },
     "metadata": {},
     "output_type": "display_data"
    }
   ],
   "source": [
    "import numpy as np\n",
    "\n",
    "# create tensor of points\n",
    "x = torch.tensor(points).requires_grad_(True)\n",
    "\n",
    "# create the target tensor\n",
    "target = torch.tensor(list(distances.values()), dtype=torch.float)\n",
    "\n",
    "\n",
    "def loss_fn(x):\n",
    "    d = torch.sqrt(\n",
    "        torch.sum(torch.pow(x[list(distances.keys()), :].diff(axis=1), 2), axis=-1)\n",
    "    ).squeeze()\n",
    "    return d, torch.nn.functional.mse_loss(d, target)\n",
    "\n",
    "\n",
    "optimizer = torch.optim.SGD([x], lr=0.01, momentum=0.9)\n",
    "\n",
    "# optimization loop\n",
    "tq = trange(n_iterations)\n",
    "for i in tq:\n",
    "    optimizer.zero_grad()\n",
    "    d, loss = loss_fn(x)\n",
    "\n",
    "    if i % 50 == 0:\n",
    "        tq.set_postfix({\"loss\": loss.detach().numpy(), \"distances\": d.detach().numpy()})\n",
    "\n",
    "    loss.backward()\n",
    "    optimizer.step()\n",
    "\n",
    "diffs = {}\n",
    "for (i, j), d in distances.items():\n",
    "    diffs[i, j] = abs(torch.nn.functional.pdist(x[[i, j], :]).item() - d)\n",
    "\n",
    "ndiffs = np.array(list(diffs.values()))\n",
    "print(\"===\")\n",
    "print(\n",
    "    \"min. = {}, max. = {}, sum. = {}\".format(ndiffs.min(), ndiffs.max(), ndiffs.sum())\n",
    ")\n",
    "\n",
    "print(x)"
   ]
  },
  {
   "cell_type": "code",
   "execution_count": 44,
   "id": "8e378876",
   "metadata": {},
   "outputs": [
    {
     "name": "stdout",
     "output_type": "stream",
     "text": [
      "min. = 0    0.000617\n",
      "Name: min, dtype: float64, max. = 0    0.052456\n",
      "Name: max, dtype: float64, sum. = 0.3547315931320201\n"
     ]
    },
    {
     "data": {
      "application/javascript": [
       "\n",
       "            setTimeout(function() {\n",
       "                var nbb_cell_id = 44;\n",
       "                var nbb_unformatted_code = \"%matplotlib inline\\nimport matplotlib.pyplot as plt\\nimport pandas as pd\\n\\ndiffs = {}\\nfor (i, j), d in distances.items():\\n    diffs[i, j] = abs(torch.nn.functional.pdist(x[[i, j], :]).item() - d)\\n\\nu = pd.DataFrame(diffs.values()).describe()\\nprint(\\n    \\\"min. = {}, max. = {}, sum. = {}\\\".format(\\n        u.loc[\\\"min\\\"], u.loc[\\\"max\\\"], np.array(list(diffs.values())).sum()\\n    )\\n)\";\n",
       "                var nbb_formatted_code = \"%matplotlib inline\\nimport matplotlib.pyplot as plt\\nimport pandas as pd\\n\\ndiffs = {}\\nfor (i, j), d in distances.items():\\n    diffs[i, j] = abs(torch.nn.functional.pdist(x[[i, j], :]).item() - d)\\n\\nu = pd.DataFrame(diffs.values()).describe()\\nprint(\\n    \\\"min. = {}, max. = {}, sum. = {}\\\".format(\\n        u.loc[\\\"min\\\"], u.loc[\\\"max\\\"], np.array(list(diffs.values())).sum()\\n    )\\n)\";\n",
       "                var nbb_cells = Jupyter.notebook.get_cells();\n",
       "                for (var i = 0; i < nbb_cells.length; ++i) {\n",
       "                    if (nbb_cells[i].input_prompt_number == nbb_cell_id) {\n",
       "                        if (nbb_cells[i].get_text() == nbb_unformatted_code) {\n",
       "                             nbb_cells[i].set_text(nbb_formatted_code);\n",
       "                        }\n",
       "                        break;\n",
       "                    }\n",
       "                }\n",
       "            }, 500);\n",
       "            "
      ],
      "text/plain": [
       "<IPython.core.display.Javascript object>"
      ]
     },
     "metadata": {},
     "output_type": "display_data"
    }
   ],
   "source": [
    "%matplotlib inline\n",
    "import matplotlib.pyplot as plt\n",
    "import numpy as np\n",
    "\n",
    "diffs = {}\n",
    "for (i, j), d in distances.items():\n",
    "    diffs[i, j] = abs(torch.nn.functional.pdist(x[[i, j], :]).item() - d)\n",
    "\n",
    "ndiffs = np.array(list(diffs.values()))\n",
    "    \n",
    "u = pd.DataFrame(diffs.values()).describe()\n"
   ]
  },
  {
   "cell_type": "code",
   "execution_count": 49,
   "id": "f6d834b6",
   "metadata": {},
   "outputs": [
    {
     "data": {
      "image/png": "[encoded data removed]",
      "text/plain": [
       "<Figure size 576x576 with 1 Axes>"
      ]
     },
     "metadata": {
      "needs_background": "light"
     },
     "output_type": "display_data"
    },
    {
     "data": {
      "application/javascript": [
       "\n",
       "            setTimeout(function() {\n",
       "                var nbb_cell_id = 49;\n",
       "                var nbb_unformatted_code = \"xv = x.detach().numpy()\\n\\nfig, ax = plt.subplots(1, 1, figsize=(8, 8))\\nax.set_aspect(\\\"equal\\\", \\\"box\\\")\\nax.scatter(xv[:, 0], xv[:, 1])\\n\\nfor i in range(len(points)):\\n    ax.annotate(str(i), (xv[i, 0].item() + 0.5, xv[i, 1].item() + 0.5))\";\n",
       "                var nbb_formatted_code = \"xv = x.detach().numpy()\\n\\nfig, ax = plt.subplots(1, 1, figsize=(8, 8))\\nax.set_aspect(\\\"equal\\\", \\\"box\\\")\\nax.scatter(xv[:, 0], xv[:, 1])\\n\\nfor i in range(len(points)):\\n    ax.annotate(str(i), (xv[i, 0].item() + 0.5, xv[i, 1].item() + 0.5))\";\n",
       "                var nbb_cells = Jupyter.notebook.get_cells();\n",
       "                for (var i = 0; i < nbb_cells.length; ++i) {\n",
       "                    if (nbb_cells[i].input_prompt_number == nbb_cell_id) {\n",
       "                        if (nbb_cells[i].get_text() == nbb_unformatted_code) {\n",
       "                             nbb_cells[i].set_text(nbb_formatted_code);\n",
       "                        }\n",
       "                        break;\n",
       "                    }\n",
       "                }\n",
       "            }, 500);\n",
       "            "
      ],
      "text/plain": [
       "<IPython.core.display.Javascript object>"
      ]
     },
     "metadata": {},
     "output_type": "display_data"
    }
   ],
   "source": [
    "xv = x.detach().numpy()\n",
    "\n",
    "fig, ax = plt.subplots(1, 1, figsize=(8, 8))\n",
    "ax.set_aspect(\"equal\", \"box\")\n",
    "ax.scatter(xv[:, 0], xv[:, 1])\n",
    "\n",
    "for i in range(len(points)):\n",
    "    ax.annotate(str(i), (xv[i, 0].item() + 0.5, xv[i, 1].item() + 0.5))"
   ]
  }
 ],
 "metadata": {
  "kernelspec": {
   "display_name": "Python 3 (ipykernel)",
   "language": "python",
   "name": "python3"
  },
  "language_info": {
   "codemirror_mode": {
    "name": "ipython",
    "version": 3
   },
   "file_extension": ".py",
   "mimetype": "text/x-python",
   "name": "python",
   "nbconvert_exporter": "python",
   "pygments_lexer": "ipython3",
   "version": "3.8.10"
  }
 },
 "nbformat": 4,
 "nbformat_minor": 5
}
