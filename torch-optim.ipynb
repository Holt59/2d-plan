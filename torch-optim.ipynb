{
 "cells": [
  {
   "cell_type": "code",
   "execution_count": 12,
   "id": "c76f09d0",
   "metadata": {},
   "outputs": [],
   "source": [
    "import torch\n",
    "from tqdm.autonotebook import tqdm, trange"
   ]
  },
  {
   "cell_type": "code",
   "execution_count": 149,
   "id": "4a59b1d1",
   "metadata": {},
   "outputs": [],
   "source": [
    "# number of points\n",
    "n_points = 5\n",
    "\n",
    "# estimate maximum coordinate of point\n",
    "n_estimate_max = 50\n",
    "\n",
    "# distance between points as (i, j): d where i and j are the two points\n",
    "distances = {\n",
    "    (0, 1): 10,\n",
    "    (1, 2): 10,\n",
    "    (2, 3): 10,\n",
    "    (3, 4): 10,\n",
    "    (4, 0): 10,\n",
    "    \n",
    "    # diagonals\n",
    "    (0, 2): 1.61803398875 * 10,\n",
    "    (1, 3): 1.61803398875 * 10,\n",
    "    (2, 4): 1.61803398875 * 10,\n",
    "    (3, 0): 1.61803398875 * 10,\n",
    "    (4, 1): 1.61803398875 * 10\n",
    "}\n",
    "\n",
    "# number of iterations\n",
    "n_iterations = 5000"
   ]
  },
  {
   "cell_type": "code",
   "execution_count": 150,
   "id": "6427ee48",
   "metadata": {},
   "outputs": [
    {
     "data": {
      "application/vnd.jupyter.widget-view+json": {
       "model_id": "347d048efc514942af83879c9801c5dc",
       "version_major": 2,
       "version_minor": 0
      },
      "text/plain": [
       "  0%|          | 0/5000 [00:00<?, ?it/s]"
      ]
     },
     "metadata": {},
     "output_type": "display_data"
    },
    {
     "name": "stdout",
     "output_type": "stream",
     "text": [
      "tensor([[31.7819,  7.8917],\n",
      "        [35.7866, 17.0548],\n",
      "        [28.3096, 23.6951],\n",
      "        [19.6838, 18.6359],\n",
      "        [21.8298,  8.8689]], requires_grad=True)\n"
     ]
    }
   ],
   "source": [
    "# create tensor of points\n",
    "x = torch.rand(n_points, 2) * n_estimate_max\n",
    "x = x.requires_grad_(True)\n",
    "\n",
    "# create the target tensor\n",
    "target = torch.tensor(list(distances.values()), dtype=torch.float)\n",
    "\n",
    "def loss_fn(x):\n",
    "    d = torch.sqrt(torch.sum(torch.pow(x[list(distances.keys()), :].diff(axis=1), 2), axis=-1)).squeeze()\n",
    "    return d, torch.nn.functional.mse_loss(d, target)\n",
    "\n",
    "optimizer = torch.optim.SGD([x], lr=0.01, momentum=0.9)\n",
    "\n",
    "# optimization loop\n",
    "tq = trange(n_iterations)\n",
    "for _ in tq:\n",
    "    optimizer.zero_grad()\n",
    "    d, loss = loss_fn(x)\n",
    "    \n",
    "    tq.set_postfix({\"loss\": loss.detach().numpy(), \"distances\": d.detach().numpy()})\n",
    "    \n",
    "    loss.backward()\n",
    "    optimizer.step()\n",
    "    \n",
    "print(x)"
   ]
  },
  {
   "cell_type": "code",
   "execution_count": 151,
   "id": "f6d834b6",
   "metadata": {},
   "outputs": [
    {
     "name": "stdout",
     "output_type": "stream",
     "text": [
      "0 1 9.999988555908203 10\n",
      "1 2 9.99996566772461 10\n",
      "2 3 9.99998664855957 10\n",
      "3 4 9.999998092651367 10\n",
      "4 0 10.000020980834961 10\n",
      "0 2 16.18033218383789 16.1803398875\n",
      "1 3 16.1803035736084 16.1803398875\n",
      "2 4 16.180330276489258 16.1803398875\n",
      "3 0 16.180347442626953 16.1803398875\n",
      "4 1 16.180320739746094 16.1803398875\n"
     ]
    },
    {
     "data": {
      "image/png": "[encoded data removed]",
      "text/plain": [
       "<Figure size 576x576 with 1 Axes>"
      ]
     },
     "metadata": {
      "needs_background": "light"
     },
     "output_type": "display_data"
    }
   ],
   "source": [
    "%matplotlib inline\n",
    "import matplotlib.pyplot as plt\n",
    "\n",
    "for (i, j), d in distances.items():\n",
    "    print(i, j, torch.nn.functional.pdist(x[[i, j], :]).item(), d)\n",
    "\n",
    "xv = x.detach().numpy()\n",
    "\n",
    "fig, ax = plt.subplots(1, 1, figsize=(8, 8))\n",
    "ax.set_aspect('equal', 'box')\n",
    "ax.scatter(xv[:, 0], xv[:, 1])\n",
    "\n",
    "for i in range(n_points):\n",
    "    ax.annotate(str(i), (xv[i, 0].item() + 0.5, xv[i, 1].item() + 0.5))"
   ]
  }
 ],
 "metadata": {
  "kernelspec": {
   "display_name": "Python 3 (ipykernel)",
   "language": "python",
   "name": "python3"
  },
  "language_info": {
   "codemirror_mode": {
    "name": "ipython",
    "version": 3
   },
   "file_extension": ".py",
   "mimetype": "text/x-python",
   "name": "python",
   "nbconvert_exporter": "python",
   "pygments_lexer": "ipython3",
   "version": "3.8.10"
  }
 },
 "nbformat": 4,
 "nbformat_minor": 5
}
