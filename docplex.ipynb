{
 "cells": [
  {
   "cell_type": "code",
   "execution_count": 1,
   "id": "e5ea95b7",
   "metadata": {},
   "outputs": [
    {
     "data": {
      "application/javascript": [
       "\n",
       "            setTimeout(function() {\n",
       "                var nbb_cell_id = 1;\n",
       "                var nbb_unformatted_code = \"%load_ext nb_black\";\n",
       "                var nbb_formatted_code = \"%load_ext nb_black\";\n",
       "                var nbb_cells = Jupyter.notebook.get_cells();\n",
       "                for (var i = 0; i < nbb_cells.length; ++i) {\n",
       "                    if (nbb_cells[i].input_prompt_number == nbb_cell_id) {\n",
       "                        if (nbb_cells[i].get_text() == nbb_unformatted_code) {\n",
       "                             nbb_cells[i].set_text(nbb_formatted_code);\n",
       "                        }\n",
       "                        break;\n",
       "                    }\n",
       "                }\n",
       "            }, 500);\n",
       "            "
      ],
      "text/plain": [
       "<IPython.core.display.Javascript object>"
      ]
     },
     "metadata": {},
     "output_type": "display_data"
    }
   ],
   "source": [
    "%load_ext nb_black"
   ]
  },
  {
   "cell_type": "code",
   "execution_count": 3,
   "id": "bc0fcf04",
   "metadata": {},
   "outputs": [
    {
     "data": {
      "application/javascript": [
       "\n",
       "            setTimeout(function() {\n",
       "                var nbb_cell_id = 3;\n",
       "                var nbb_unformatted_code = \"from docplex.cp.model import CpoModel\\nimport numpy as np\\nimport yaml\";\n",
       "                var nbb_formatted_code = \"from docplex.cp.model import CpoModel\\nimport numpy as np\\nimport yaml\";\n",
       "                var nbb_cells = Jupyter.notebook.get_cells();\n",
       "                for (var i = 0; i < nbb_cells.length; ++i) {\n",
       "                    if (nbb_cells[i].input_prompt_number == nbb_cell_id) {\n",
       "                        if (nbb_cells[i].get_text() == nbb_unformatted_code) {\n",
       "                             nbb_cells[i].set_text(nbb_formatted_code);\n",
       "                        }\n",
       "                        break;\n",
       "                    }\n",
       "                }\n",
       "            }, 500);\n",
       "            "
      ],
      "text/plain": [
       "<IPython.core.display.Javascript object>"
      ]
     },
     "metadata": {},
     "output_type": "display_data"
    }
   ],
   "source": [
    "from docplex.cp.model import CpoModel\n",
    "import numpy as np\n",
    "import yaml"
   ]
  },
  {
   "cell_type": "code",
   "execution_count": 42,
   "id": "f9247517",
   "metadata": {},
   "outputs": [
    {
     "data": {
      "application/javascript": [
       "\n",
       "            setTimeout(function() {\n",
       "                var nbb_cell_id = 42;\n",
       "                var nbb_unformatted_code = \"def load(path):\\n    with open(path) as fp:\\n        data = yaml.load(fp, Loader=yaml.CSafeLoader)\\n\\n    pts = sorted(data[\\\"points\\\"].keys())\\n    p2i = {k: i for i, k in enumerate(pts)}\\n\\n    locks = [\\n        [data[\\\"points\\\"][p].get(\\\"x-lock\\\", False), data[\\\"points\\\"][p].get(\\\"y-lock\\\", False)]\\n        for p in pts\\n    ]\\n\\n    points = [[data[\\\"points\\\"][i][\\\"x\\\"], data[\\\"points\\\"][i][\\\"y\\\"]] for i in pts]\\n\\n    distances = {(p2i[d[\\\"from\\\"]], p2i[d[\\\"to\\\"]]): d[\\\"d\\\"] for d in data[\\\"distances\\\"]}\\n\\n    return np.asarray(points), locks, distances\";\n",
       "                var nbb_formatted_code = \"def load(path):\\n    with open(path) as fp:\\n        data = yaml.load(fp, Loader=yaml.CSafeLoader)\\n\\n    pts = sorted(data[\\\"points\\\"].keys())\\n    p2i = {k: i for i, k in enumerate(pts)}\\n\\n    locks = [\\n        [data[\\\"points\\\"][p].get(\\\"x-lock\\\", False), data[\\\"points\\\"][p].get(\\\"y-lock\\\", False)]\\n        for p in pts\\n    ]\\n\\n    points = [[data[\\\"points\\\"][i][\\\"x\\\"], data[\\\"points\\\"][i][\\\"y\\\"]] for i in pts]\\n\\n    distances = {(p2i[d[\\\"from\\\"]], p2i[d[\\\"to\\\"]]): d[\\\"d\\\"] for d in data[\\\"distances\\\"]}\\n\\n    return np.asarray(points), locks, distances\";\n",
       "                var nbb_cells = Jupyter.notebook.get_cells();\n",
       "                for (var i = 0; i < nbb_cells.length; ++i) {\n",
       "                    if (nbb_cells[i].input_prompt_number == nbb_cell_id) {\n",
       "                        if (nbb_cells[i].get_text() == nbb_unformatted_code) {\n",
       "                             nbb_cells[i].set_text(nbb_formatted_code);\n",
       "                        }\n",
       "                        break;\n",
       "                    }\n",
       "                }\n",
       "            }, 500);\n",
       "            "
      ],
      "text/plain": [
       "<IPython.core.display.Javascript object>"
      ]
     },
     "metadata": {},
     "output_type": "display_data"
    }
   ],
   "source": [
    "def load(path):\n",
    "    with open(path) as fp:\n",
    "        data = yaml.load(fp, Loader=yaml.CSafeLoader)\n",
    "\n",
    "    pts = sorted(data[\"points\"].keys())\n",
    "    p2i = {k: i for i, k in enumerate(pts)}\n",
    "\n",
    "    locks = [\n",
    "        [data[\"points\"][p].get(\"x-lock\", False), data[\"points\"][p].get(\"y-lock\", False)]\n",
    "        for p in pts\n",
    "    ]\n",
    "\n",
    "    points = [[data[\"points\"][i][\"x\"], data[\"points\"][i][\"y\"]] for i in pts]\n",
    "\n",
    "    distances = {(p2i[d[\"from\"]], p2i[d[\"to\"]]): d[\"d\"] for d in data[\"distances\"]}\n",
    "\n",
    "    return np.asarray(points), locks, distances"
   ]
  },
  {
   "cell_type": "code",
   "execution_count": 43,
   "id": "ccd08a9e",
   "metadata": {},
   "outputs": [
    {
     "data": {
      "application/javascript": [
       "\n",
       "            setTimeout(function() {\n",
       "                var nbb_cell_id = 43;\n",
       "                var nbb_unformatted_code = \"points, locks, distances = load(\\\"./terrasse.yml\\\")\";\n",
       "                var nbb_formatted_code = \"points, locks, distances = load(\\\"./terrasse.yml\\\")\";\n",
       "                var nbb_cells = Jupyter.notebook.get_cells();\n",
       "                for (var i = 0; i < nbb_cells.length; ++i) {\n",
       "                    if (nbb_cells[i].input_prompt_number == nbb_cell_id) {\n",
       "                        if (nbb_cells[i].get_text() == nbb_unformatted_code) {\n",
       "                             nbb_cells[i].set_text(nbb_formatted_code);\n",
       "                        }\n",
       "                        break;\n",
       "                    }\n",
       "                }\n",
       "            }, 500);\n",
       "            "
      ],
      "text/plain": [
       "<IPython.core.display.Javascript object>"
      ]
     },
     "metadata": {},
     "output_type": "display_data"
    }
   ],
   "source": [
    "points, locks, distances = load(\"./terrasse.yml\")"
   ]
  },
  {
   "cell_type": "code",
   "execution_count": 75,
   "id": "9c1effc4",
   "metadata": {
    "scrolled": true
   },
   "outputs": [
    {
     "ename": "CpoException",
     "evalue": "Impossible to build a CP Optimizer expression with value '<function <lambda> at 0x000001615ECC1940>' of type '<class 'function'>'",
     "output_type": "error",
     "traceback": [
      "\u001b[1;31m---------------------------------------------------------------------------\u001b[0m",
      "\u001b[1;31mTypeError\u001b[0m                                 Traceback (most recent call last)",
      "File \u001b[1;32mc:\\users\\mikaelcapelle\\.envs\\test-cplex38\\lib\\site-packages\\docplex\\cp\\expression.py:2237\u001b[0m, in \u001b[0;36mbuild_cpo_expr\u001b[1;34m(val)\u001b[0m\n\u001b[0;32m   2236\u001b[0m \u001b[38;5;28;01mtry\u001b[39;00m:\n\u001b[1;32m-> 2237\u001b[0m     val \u001b[38;5;241m=\u001b[39m \u001b[43m_CacheKeyTuple\u001b[49m\u001b[43m(\u001b[49m\u001b[43mval\u001b[49m\u001b[43m)\u001b[49m\n\u001b[0;32m   2238\u001b[0m \u001b[38;5;28;01mexcept\u001b[39;00m \u001b[38;5;167;01mTypeError\u001b[39;00m:\n",
      "\u001b[1;31mTypeError\u001b[0m: 'function' object is not iterable",
      "\nDuring handling of the above exception, another exception occurred:\n",
      "\u001b[1;31mCpoException\u001b[0m                              Traceback (most recent call last)",
      "Input \u001b[1;32mIn [75]\u001b[0m, in \u001b[0;36m<cell line: 41>\u001b[1;34m()\u001b[0m\n\u001b[0;32m     36\u001b[0m \u001b[38;5;66;03m# test 1\u001b[39;00m\n\u001b[0;32m     37\u001b[0m \u001b[38;5;66;03m# m.add(m.minimize(m.max(epss)))\u001b[39;00m\n\u001b[0;32m     38\u001b[0m \u001b[38;5;66;03m# m.add(m.minimize(np.sum(epss)))\u001b[39;00m\n\u001b[0;32m     39\u001b[0m m\u001b[38;5;241m.\u001b[39madd(m\u001b[38;5;241m.\u001b[39mminimize_static_lex([m\u001b[38;5;241m.\u001b[39mmax(epss), np\u001b[38;5;241m.\u001b[39msum(epss)]))\n\u001b[0;32m     41\u001b[0m m\u001b[38;5;241m.\u001b[39mset_search_phases(\n\u001b[0;32m     42\u001b[0m     m\u001b[38;5;241m.\u001b[39msearch_phase(\n\u001b[0;32m     43\u001b[0m         \u001b[38;5;28mlist\u001b[39m(x\u001b[38;5;241m.\u001b[39mflatten()),\n\u001b[0;32m     44\u001b[0m         varchooser\u001b[38;5;241m=\u001b[39mm\u001b[38;5;241m.\u001b[39mselect_random_var(),\n\u001b[1;32m---> 45\u001b[0m         valuechooser\u001b[38;5;241m=\u001b[39m\u001b[43mm\u001b[49m\u001b[38;5;241;43m.\u001b[39;49m\u001b[43mselect_largest\u001b[49m\u001b[43m(\u001b[49m\u001b[38;5;28;43;01mlambda\u001b[39;49;00m\u001b[43m \u001b[49m\u001b[43mu\u001b[49m\u001b[43m,\u001b[49m\u001b[43m \u001b[49m\u001b[43mv\u001b[49m\u001b[43m:\u001b[49m\u001b[43m \u001b[49m\u001b[38;5;28;43mmax\u001b[39;49m\u001b[43m(\u001b[49m\u001b[43mu\u001b[49m\u001b[43m,\u001b[49m\u001b[43m \u001b[49m\u001b[43mv\u001b[49m\u001b[43m)\u001b[49m\u001b[43m)\u001b[49m,\n\u001b[0;32m     46\u001b[0m     )\n\u001b[0;32m     47\u001b[0m )\n\u001b[0;32m     49\u001b[0m \u001b[38;5;28;01mfor\u001b[39;00m s \u001b[38;5;129;01min\u001b[39;00m m\u001b[38;5;241m.\u001b[39mstart_search(TimeLimit\u001b[38;5;241m=\u001b[39m\u001b[38;5;241m600\u001b[39m):\n\u001b[0;32m     50\u001b[0m     u \u001b[38;5;241m=\u001b[39m np\u001b[38;5;241m.\u001b[39marray([[s[x[i][\u001b[38;5;241m0\u001b[39m]], s[x[i][\u001b[38;5;241m1\u001b[39m]]] \u001b[38;5;28;01mfor\u001b[39;00m i \u001b[38;5;129;01min\u001b[39;00m \u001b[38;5;28mrange\u001b[39m(\u001b[38;5;28mlen\u001b[39m(points))]) \u001b[38;5;241m/\u001b[39m \u001b[38;5;241m1000.0\u001b[39m\n",
      "File \u001b[1;32mc:\\users\\mikaelcapelle\\.envs\\test-cplex38\\lib\\site-packages\\docplex\\cp\\modeler.py:3632\u001b[0m, in \u001b[0;36mselect_largest\u001b[1;34m(evaluator, minNumber, tolerance)\u001b[0m\n\u001b[0;32m   3598\u001b[0m \u001b[38;5;28;01mdef\u001b[39;00m \u001b[38;5;21mselect_largest\u001b[39m(evaluator, minNumber\u001b[38;5;241m=\u001b[39m\u001b[38;5;28;01mNone\u001b[39;00m, tolerance\u001b[38;5;241m=\u001b[39m\u001b[38;5;28;01mNone\u001b[39;00m):\n\u001b[0;32m   3599\u001b[0m     \u001b[38;5;124;03m\"\"\" Selector of integer variables or value having the largest evaluation according to a given evaluator.\u001b[39;00m\n\u001b[0;32m   3600\u001b[0m \n\u001b[0;32m   3601\u001b[0m \u001b[38;5;124;03m    This function returns a selector of value assignments to a variable that selects all values having the\u001b[39;00m\n\u001b[1;32m   (...)\u001b[0m\n\u001b[0;32m   3630\u001b[0m \u001b[38;5;124;03m        An expression of type selector of integer value or selector of integer variable\u001b[39;00m\n\u001b[0;32m   3631\u001b[0m \u001b[38;5;124;03m    \"\"\"\u001b[39;00m\n\u001b[1;32m-> 3632\u001b[0m     evaluator \u001b[38;5;241m=\u001b[39m \u001b[43mbuild_cpo_expr\u001b[49m\u001b[43m(\u001b[49m\u001b[43mevaluator\u001b[49m\u001b[43m)\u001b[49m\n\u001b[0;32m   3633\u001b[0m     \u001b[38;5;28;01mif\u001b[39;00m evaluator\u001b[38;5;241m.\u001b[39mis_kind_of(Type_IntValueEval):\n\u001b[0;32m   3634\u001b[0m         rtype \u001b[38;5;241m=\u001b[39m Type_IntValueSelector\n",
      "File \u001b[1;32mc:\\users\\mikaelcapelle\\.envs\\test-cplex38\\lib\\site-packages\\docplex\\cp\\expression.py:2239\u001b[0m, in \u001b[0;36mbuild_cpo_expr\u001b[1;34m(val)\u001b[0m\n\u001b[0;32m   2237\u001b[0m     val \u001b[38;5;241m=\u001b[39m _CacheKeyTuple(val)\n\u001b[0;32m   2238\u001b[0m \u001b[38;5;28;01mexcept\u001b[39;00m \u001b[38;5;167;01mTypeError\u001b[39;00m:\n\u001b[1;32m-> 2239\u001b[0m    \u001b[38;5;28;01mraise\u001b[39;00m CpoException(\u001b[38;5;124m\"\u001b[39m\u001b[38;5;124mImpossible to build a CP Optimizer expression with value \u001b[39m\u001b[38;5;124m'\u001b[39m\u001b[38;5;132;01m{}\u001b[39;00m\u001b[38;5;124m'\u001b[39m\u001b[38;5;124m of type \u001b[39m\u001b[38;5;124m'\u001b[39m\u001b[38;5;132;01m{}\u001b[39;00m\u001b[38;5;124m'\u001b[39m\u001b[38;5;124m\"\u001b[39m\u001b[38;5;241m.\u001b[39mformat(to_string(val), \u001b[38;5;28mtype\u001b[39m(val)))\n\u001b[0;32m   2241\u001b[0m \u001b[38;5;66;03m# Check if already in the cache\u001b[39;00m\n\u001b[0;32m   2242\u001b[0m \u001b[38;5;28;01mif\u001b[39;00m _CACHE_ACTIVE:\n",
      "\u001b[1;31mCpoException\u001b[0m: Impossible to build a CP Optimizer expression with value '<function <lambda> at 0x000001615ECC1940>' of type '<class 'function'>'"
     ]
    },
    {
     "data": {
      "application/javascript": [
       "\n",
       "            setTimeout(function() {\n",
       "                var nbb_cell_id = 75;\n",
       "                var nbb_unformatted_code = \"from IPython.display import clear_output\\n\\nmax_xy = 15000  # 15 meters\\n\\nm = CpoModel()\\n\\nx = np.asarray(\\n    [\\n        [\\n            m.integer_var(min=0, max=max_xy, name=\\\"x_{i}\\\"),\\n            m.integer_var(min=0, max=max_xy, name=\\\"y_{i}\\\"),\\n        ]\\n        for i in range(len(points))\\n    ]\\n)\\n\\ndists = np.array(list(distances.values())) * 1000  # millimeters\\n\\nexpr_dists = np.sum(\\n    np.power(np.diff(x[list(distances.keys()), :], axis=1), 2), axis=-1\\n).squeeze()\\n\\nepss_2 = [m.abs(e) for e in (expr_dists - np.power(dists, 2))]\\nepss = m.integer_var_list(len(epss_2), min=0, max=max_xy, name=\\\"e\\\")\\n\\nfor eps, eps_2 in zip(epss, epss_2):\\n    m.add(eps * eps == eps_2)\\n\\n# fix points\\nfor i, (xlock, ylock) in enumerate(locks):\\n    if xlock:\\n        m.add(x[i, 0] == int(points[i, 0] * 1000))\\n    if ylock:\\n        m.add(x[i, 1] == int(points[i, 1] * 1000))\\n\\n# test 1\\n# m.add(m.minimize(m.max(epss)))\\n# m.add(m.minimize(np.sum(epss)))\\nm.add(m.minimize_static_lex([m.max(epss), np.sum(epss)]))\\n\\nm.set_search_phases(\\n    m.search_phase(\\n        list(x.flatten()),\\n        varchooser=m.select_random_var(),\\n        valuechooser=m.select_largest(lambda u, v: max(u, v)),\\n    )\\n)\\n\\nfor s in m.start_search(TimeLimit=600):\\n    u = np.array([[s[x[i][0]], s[x[i][1]]] for i in range(len(points))]) / 1000.0\\n    v = distances\\n\\n    diffs = []\\n    for i, j in v:\\n        p = np.abs(np.sqrt(np.power(u[i] - u[j], 2).sum()) - v[i, j])\\n        diffs.append(p)\\n\\n        # print(i, j, v[i, j], p)\\n\\n    ndiffs = np.array(diffs)\\n\\n    clear_output()\\n    print(\\n        \\\"{}, min. = {}, max. = {}, sum. = {}\\\".format(\\n            s.get_objective_values(), ndiffs.min(), ndiffs.max(), ndiffs.sum()\\n        )\\n    )\";\n",
       "                var nbb_formatted_code = \"from IPython.display import clear_output\\n\\nmax_xy = 15000  # 15 meters\\n\\nm = CpoModel()\\n\\nx = np.asarray(\\n    [\\n        [\\n            m.integer_var(min=0, max=max_xy, name=\\\"x_{i}\\\"),\\n            m.integer_var(min=0, max=max_xy, name=\\\"y_{i}\\\"),\\n        ]\\n        for i in range(len(points))\\n    ]\\n)\\n\\ndists = np.array(list(distances.values())) * 1000  # millimeters\\n\\nexpr_dists = np.sum(\\n    np.power(np.diff(x[list(distances.keys()), :], axis=1), 2), axis=-1\\n).squeeze()\\n\\nepss_2 = [m.abs(e) for e in (expr_dists - np.power(dists, 2))]\\nepss = m.integer_var_list(len(epss_2), min=0, max=max_xy, name=\\\"e\\\")\\n\\nfor eps, eps_2 in zip(epss, epss_2):\\n    m.add(eps * eps == eps_2)\\n\\n# fix points\\nfor i, (xlock, ylock) in enumerate(locks):\\n    if xlock:\\n        m.add(x[i, 0] == int(points[i, 0] * 1000))\\n    if ylock:\\n        m.add(x[i, 1] == int(points[i, 1] * 1000))\\n\\n# test 1\\n# m.add(m.minimize(m.max(epss)))\\n# m.add(m.minimize(np.sum(epss)))\\nm.add(m.minimize_static_lex([m.max(epss), np.sum(epss)]))\\n\\nm.set_search_phases(\\n    m.search_phase(\\n        list(x.flatten()),\\n        varchooser=m.select_random_var(),\\n        valuechooser=m.select_largest(lambda u, v: max(u, v)),\\n    )\\n)\\n\\nfor s in m.start_search(TimeLimit=600):\\n    u = np.array([[s[x[i][0]], s[x[i][1]]] for i in range(len(points))]) / 1000.0\\n    v = distances\\n\\n    diffs = []\\n    for i, j in v:\\n        p = np.abs(np.sqrt(np.power(u[i] - u[j], 2).sum()) - v[i, j])\\n        diffs.append(p)\\n\\n        # print(i, j, v[i, j], p)\\n\\n    ndiffs = np.array(diffs)\\n\\n    clear_output()\\n    print(\\n        \\\"{}, min. = {}, max. = {}, sum. = {}\\\".format(\\n            s.get_objective_values(), ndiffs.min(), ndiffs.max(), ndiffs.sum()\\n        )\\n    )\";\n",
       "                var nbb_cells = Jupyter.notebook.get_cells();\n",
       "                for (var i = 0; i < nbb_cells.length; ++i) {\n",
       "                    if (nbb_cells[i].input_prompt_number == nbb_cell_id) {\n",
       "                        if (nbb_cells[i].get_text() == nbb_unformatted_code) {\n",
       "                             nbb_cells[i].set_text(nbb_formatted_code);\n",
       "                        }\n",
       "                        break;\n",
       "                    }\n",
       "                }\n",
       "            }, 500);\n",
       "            "
      ],
      "text/plain": [
       "<IPython.core.display.Javascript object>"
      ]
     },
     "metadata": {},
     "output_type": "display_data"
    }
   ],
   "source": [
    "from IPython.display import clear_output\n",
    "\n",
    "max_xy = 15000  # 15 meters\n",
    "\n",
    "m = CpoModel()\n",
    "\n",
    "x = np.asarray(\n",
    "    [\n",
    "        [\n",
    "            m.integer_var(min=0, max=max_xy, name=\"x_{i}\"),\n",
    "            m.integer_var(min=0, max=max_xy, name=\"y_{i}\"),\n",
    "        ]\n",
    "        for i in range(len(points))\n",
    "    ]\n",
    ")\n",
    "\n",
    "dists = np.array(list(distances.values())) * 1000  # millimeters\n",
    "\n",
    "expr_dists = np.sum(\n",
    "    np.power(np.diff(x[list(distances.keys()), :], axis=1), 2), axis=-1\n",
    ").squeeze()\n",
    "\n",
    "epss_2 = [m.abs(e) for e in (expr_dists - np.power(dists, 2))]\n",
    "epss = m.integer_var_list(len(epss_2), min=0, max=max_xy, name=\"e\")\n",
    "\n",
    "for eps, eps_2 in zip(epss, epss_2):\n",
    "    m.add(eps * eps == eps_2)\n",
    "\n",
    "# fix points\n",
    "for i, (xlock, ylock) in enumerate(locks):\n",
    "    if xlock:\n",
    "        m.add(x[i, 0] == int(points[i, 0] * 1000))\n",
    "    if ylock:\n",
    "        m.add(x[i, 1] == int(points[i, 1] * 1000))\n",
    "\n",
    "# test 1\n",
    "# m.add(m.minimize(m.max(epss)))\n",
    "# m.add(m.minimize(np.sum(epss)))\n",
    "m.add(m.minimize_static_lex([m.max(epss), np.sum(epss)]))\n",
    "\n",
    "m.set_search_phases(\n",
    "    m.search_phase(\n",
    "        list(x.flatten()),\n",
    "        varchooser=m.select_random_var(),\n",
    "        valuechooser=m.select_largest(lambda u, v: [max(u, v), min*u),\n",
    "    )\n",
    ")\n",
    "\n",
    "for s in m.start_search(TimeLimit=600):\n",
    "    u = np.array([[s[x[i][0]], s[x[i][1]]] for i in range(len(points))]) / 1000.0\n",
    "    v = distances\n",
    "\n",
    "    diffs = []\n",
    "    for i, j in v:\n",
    "        p = np.abs(np.sqrt(np.power(u[i] - u[j], 2).sum()) - v[i, j])\n",
    "        diffs.append(p)\n",
    "\n",
    "        # print(i, j, v[i, j], p)\n",
    "\n",
    "    ndiffs = np.array(diffs)\n",
    "\n",
    "    clear_output()\n",
    "    print(\n",
    "        \"{}, min. = {}, max. = {}, sum. = {}\".format(\n",
    "            s.get_objective_values(), ndiffs.min(), ndiffs.max(), ndiffs.sum()\n",
    "        )\n",
    "    )"
   ]
  },
  {
   "cell_type": "code",
   "execution_count": 56,
   "id": "287225b5",
   "metadata": {},
   "outputs": [
    {
     "ename": "KeyError",
     "evalue": "<docplex.cp.expression.CpoIntVar object at 0x0000016159FF7310>",
     "output_type": "error",
     "traceback": [
      "\u001b[1;31m---------------------------------------------------------------------------\u001b[0m",
      "\u001b[1;31mKeyError\u001b[0m                                  Traceback (most recent call last)",
      "Input \u001b[1;32mIn [56]\u001b[0m, in \u001b[0;36m<cell line: 1>\u001b[1;34m()\u001b[0m\n\u001b[1;32m----> 1\u001b[0m u \u001b[38;5;241m=\u001b[39m np\u001b[38;5;241m.\u001b[39marray([[s[x[i][\u001b[38;5;241m0\u001b[39m]], s[x[i][\u001b[38;5;241m1\u001b[39m]]] \u001b[38;5;28;01mfor\u001b[39;00m i \u001b[38;5;129;01min\u001b[39;00m \u001b[38;5;28mrange\u001b[39m(\u001b[38;5;28mlen\u001b[39m(points))]) \u001b[38;5;241m/\u001b[39m \u001b[38;5;241m1000.0\u001b[39m\n\u001b[0;32m      2\u001b[0m v \u001b[38;5;241m=\u001b[39m distances\n\u001b[0;32m      4\u001b[0m diffs \u001b[38;5;241m=\u001b[39m []\n",
      "Input \u001b[1;32mIn [56]\u001b[0m, in \u001b[0;36m<listcomp>\u001b[1;34m(.0)\u001b[0m\n\u001b[1;32m----> 1\u001b[0m u \u001b[38;5;241m=\u001b[39m np\u001b[38;5;241m.\u001b[39marray([[\u001b[43ms\u001b[49m\u001b[43m[\u001b[49m\u001b[43mx\u001b[49m\u001b[43m[\u001b[49m\u001b[43mi\u001b[49m\u001b[43m]\u001b[49m\u001b[43m[\u001b[49m\u001b[38;5;241;43m0\u001b[39;49m\u001b[43m]\u001b[49m\u001b[43m]\u001b[49m, s[x[i][\u001b[38;5;241m1\u001b[39m]]] \u001b[38;5;28;01mfor\u001b[39;00m i \u001b[38;5;129;01min\u001b[39;00m \u001b[38;5;28mrange\u001b[39m(\u001b[38;5;28mlen\u001b[39m(points))]) \u001b[38;5;241m/\u001b[39m \u001b[38;5;241m1000.0\u001b[39m\n\u001b[0;32m      2\u001b[0m v \u001b[38;5;241m=\u001b[39m distances\n\u001b[0;32m      4\u001b[0m diffs \u001b[38;5;241m=\u001b[39m []\n",
      "File \u001b[1;32mc:\\users\\mikaelcapelle\\.envs\\test-cplex38\\lib\\site-packages\\docplex\\cp\\solution.py:1615\u001b[0m, in \u001b[0;36mCpoSolveResult.__getitem__\u001b[1;34m(self, name)\u001b[0m\n\u001b[0;32m   1607\u001b[0m \u001b[38;5;28;01mdef\u001b[39;00m \u001b[38;5;21m__getitem__\u001b[39m(\u001b[38;5;28mself\u001b[39m, name):\n\u001b[0;32m   1608\u001b[0m     \u001b[38;5;124;03m\"\"\" Overloading of [] to get a variable solution from this model solution\u001b[39;00m\n\u001b[0;32m   1609\u001b[0m \n\u001b[0;32m   1610\u001b[0m \u001b[38;5;124;03m    Args:\u001b[39;00m\n\u001b[1;32m   (...)\u001b[0m\n\u001b[0;32m   1613\u001b[0m \u001b[38;5;124;03m        Variable solution (class CpoVarSolution)\u001b[39;00m\n\u001b[0;32m   1614\u001b[0m \u001b[38;5;124;03m    \"\"\"\u001b[39;00m\n\u001b[1;32m-> 1615\u001b[0m     \u001b[38;5;28;01mreturn\u001b[39;00m \u001b[38;5;28;43mself\u001b[39;49m\u001b[38;5;241;43m.\u001b[39;49m\u001b[43mget_value\u001b[49m\u001b[43m(\u001b[49m\u001b[43mname\u001b[49m\u001b[43m)\u001b[49m\n",
      "File \u001b[1;32mc:\\users\\mikaelcapelle\\.envs\\test-cplex38\\lib\\site-packages\\docplex\\cp\\solution.py:1569\u001b[0m, in \u001b[0;36mCpoSolveResult.get_value\u001b[1;34m(self, name)\u001b[0m\n\u001b[0;32m   1556\u001b[0m \u001b[38;5;28;01mdef\u001b[39;00m \u001b[38;5;21mget_value\u001b[39m(\u001b[38;5;28mself\u001b[39m, name):\n\u001b[0;32m   1557\u001b[0m     \u001b[38;5;124;03m\"\"\" Gets the value of a variable.\u001b[39;00m\n\u001b[0;32m   1558\u001b[0m \n\u001b[0;32m   1559\u001b[0m \u001b[38;5;124;03m    For IntVar, value is an integer.\u001b[39;00m\n\u001b[1;32m   (...)\u001b[0m\n\u001b[0;32m   1567\u001b[0m \u001b[38;5;124;03m        Variable value, None if variable is not found.\u001b[39;00m\n\u001b[0;32m   1568\u001b[0m \u001b[38;5;124;03m    \"\"\"\u001b[39;00m\n\u001b[1;32m-> 1569\u001b[0m     \u001b[38;5;28;01mreturn\u001b[39;00m \u001b[38;5;28;43mself\u001b[39;49m\u001b[38;5;241;43m.\u001b[39;49m\u001b[43msolution\u001b[49m\u001b[38;5;241;43m.\u001b[39;49m\u001b[43mget_value\u001b[49m\u001b[43m(\u001b[49m\u001b[43mname\u001b[49m\u001b[43m)\u001b[49m\n",
      "File \u001b[1;32mc:\\users\\mikaelcapelle\\.envs\\test-cplex38\\lib\\site-packages\\docplex\\cp\\solution.py:785\u001b[0m, in \u001b[0;36mCpoModelSolution.get_value\u001b[1;34m(self, expr)\u001b[0m\n\u001b[0;32m    783\u001b[0m \u001b[38;5;28;01mif\u001b[39;00m var \u001b[38;5;129;01mis\u001b[39;00m \u001b[38;5;129;01mnot\u001b[39;00m \u001b[38;5;28;01mNone\u001b[39;00m:\n\u001b[0;32m    784\u001b[0m     \u001b[38;5;28;01mreturn\u001b[39;00m var\u001b[38;5;241m.\u001b[39mget_value()\n\u001b[1;32m--> 785\u001b[0m \u001b[38;5;28;01mreturn\u001b[39;00m \u001b[38;5;28;43mself\u001b[39;49m\u001b[38;5;241;43m.\u001b[39;49m\u001b[43mget_kpi_value\u001b[49m\u001b[43m(\u001b[49m\u001b[43mexpr\u001b[49m\u001b[43m)\u001b[49m\n",
      "File \u001b[1;32mc:\\users\\mikaelcapelle\\.envs\\test-cplex38\\lib\\site-packages\\docplex\\cp\\solution.py:864\u001b[0m, in \u001b[0;36mCpoModelSolution.get_kpi_value\u001b[1;34m(self, name)\u001b[0m\n\u001b[0;32m    854\u001b[0m \u001b[38;5;28;01mdef\u001b[39;00m \u001b[38;5;21mget_kpi_value\u001b[39m(\u001b[38;5;28mself\u001b[39m, name):\n\u001b[0;32m    855\u001b[0m     \u001b[38;5;124;03m\"\"\" Get the value of a KPI\u001b[39;00m\n\u001b[0;32m    856\u001b[0m \n\u001b[0;32m    857\u001b[0m \u001b[38;5;124;03m    Args:\u001b[39;00m\n\u001b[1;32m   (...)\u001b[0m\n\u001b[0;32m    862\u001b[0m \u001b[38;5;124;03m        KeyError if KPI is not in the solution.\u001b[39;00m\n\u001b[0;32m    863\u001b[0m \u001b[38;5;124;03m    \"\"\"\u001b[39;00m\n\u001b[1;32m--> 864\u001b[0m     \u001b[38;5;28;01mreturn\u001b[39;00m \u001b[38;5;28;43mself\u001b[39;49m\u001b[38;5;241;43m.\u001b[39;49m\u001b[43mkpi_values\u001b[49m\u001b[43m[\u001b[49m\u001b[43mname\u001b[49m\u001b[43m]\u001b[49m\n",
      "\u001b[1;31mKeyError\u001b[0m: <docplex.cp.expression.CpoIntVar object at 0x0000016159FF7310>"
     ]
    },
    {
     "data": {
      "application/javascript": [
       "\n",
       "            setTimeout(function() {\n",
       "                var nbb_cell_id = 56;\n",
       "                var nbb_unformatted_code = \"u = np.array([[s[x[i][0]], s[x[i][1]]] for i in range(len(points))]) / 1000.0\\nv = distances\\n\\ndiffs = []\\nfor i, j in v:\\n    p = np.abs(np.sqrt(np.power(u[i] - u[j], 2).sum()) - v[i, j])\\n    diffs.append(p)\\n\\n    # print(i, j, v[i, j], p)\\n\\nndiffs = np.array(diffs)\\nprint(\\n    \\\"min. = {}, max. = {}, sum. = {}\\\".format(ndiffs.min(), ndiffs.max(), ndiffs.sum())\\n)\";\n",
       "                var nbb_formatted_code = \"u = np.array([[s[x[i][0]], s[x[i][1]]] for i in range(len(points))]) / 1000.0\\nv = distances\\n\\ndiffs = []\\nfor i, j in v:\\n    p = np.abs(np.sqrt(np.power(u[i] - u[j], 2).sum()) - v[i, j])\\n    diffs.append(p)\\n\\n    # print(i, j, v[i, j], p)\\n\\nndiffs = np.array(diffs)\\nprint(\\n    \\\"min. = {}, max. = {}, sum. = {}\\\".format(ndiffs.min(), ndiffs.max(), ndiffs.sum())\\n)\";\n",
       "                var nbb_cells = Jupyter.notebook.get_cells();\n",
       "                for (var i = 0; i < nbb_cells.length; ++i) {\n",
       "                    if (nbb_cells[i].input_prompt_number == nbb_cell_id) {\n",
       "                        if (nbb_cells[i].get_text() == nbb_unformatted_code) {\n",
       "                             nbb_cells[i].set_text(nbb_formatted_code);\n",
       "                        }\n",
       "                        break;\n",
       "                    }\n",
       "                }\n",
       "            }, 500);\n",
       "            "
      ],
      "text/plain": [
       "<IPython.core.display.Javascript object>"
      ]
     },
     "metadata": {},
     "output_type": "display_data"
    }
   ],
   "source": [
    "u = np.array([[s[x[i][0]], s[x[i][1]]] for i in range(len(points))]) / 1000.0\n",
    "v = distances\n",
    "\n",
    "diffs = []\n",
    "for i, j in v:\n",
    "    p = np.abs(np.sqrt(np.power(u[i] - u[j], 2).sum()) - v[i, j])\n",
    "    diffs.append(p)\n",
    "\n",
    "    # print(i, j, v[i, j], p)\n",
    "\n",
    "ndiffs = np.array(diffs)\n",
    "print(\n",
    "    \"min. = {}, max. = {}, sum. = {}\".format(ndiffs.min(), ndiffs.max(), ndiffs.sum())\n",
    ")"
   ]
  },
  {
   "cell_type": "code",
   "execution_count": 54,
   "id": "2845dc3e",
   "metadata": {},
   "outputs": [
    {
     "data": {
      "image/png": "[encoded data removed]",
      "text/plain": [
       "<Figure size 800x800 with 1 Axes>"
      ]
     },
     "metadata": {},
     "output_type": "display_data"
    },
    {
     "data": {
      "application/javascript": [
       "\n",
       "            setTimeout(function() {\n",
       "                var nbb_cell_id = 54;\n",
       "                var nbb_unformatted_code = \"%matplotlib inline\\nimport matplotlib.pyplot as plt\\n\\nxv = u\\n\\nfig, ax = plt.subplots(1, 1, figsize=(8, 8))\\nax.set_aspect(\\\"equal\\\", \\\"box\\\")\\nax.scatter(xv[:, 0], xv[:, 1])\\n\\nfor i, j in zip(range(len(points))[:-1], range(len(points))[1:]):\\n    ax.plot([xv[i, 0], xv[j, 0]], [xv[i, 1], xv[j, 1]])\\n\\nfor i in range(len(points)):\\n    ax.annotate(str(i), (xv[i, 0].item() + 0.5, xv[i, 1].item() + 0.5))\";\n",
       "                var nbb_formatted_code = \"%matplotlib inline\\nimport matplotlib.pyplot as plt\\n\\nxv = u\\n\\nfig, ax = plt.subplots(1, 1, figsize=(8, 8))\\nax.set_aspect(\\\"equal\\\", \\\"box\\\")\\nax.scatter(xv[:, 0], xv[:, 1])\\n\\nfor i, j in zip(range(len(points))[:-1], range(len(points))[1:]):\\n    ax.plot([xv[i, 0], xv[j, 0]], [xv[i, 1], xv[j, 1]])\\n\\nfor i in range(len(points)):\\n    ax.annotate(str(i), (xv[i, 0].item() + 0.5, xv[i, 1].item() + 0.5))\";\n",
       "                var nbb_cells = Jupyter.notebook.get_cells();\n",
       "                for (var i = 0; i < nbb_cells.length; ++i) {\n",
       "                    if (nbb_cells[i].input_prompt_number == nbb_cell_id) {\n",
       "                        if (nbb_cells[i].get_text() == nbb_unformatted_code) {\n",
       "                             nbb_cells[i].set_text(nbb_formatted_code);\n",
       "                        }\n",
       "                        break;\n",
       "                    }\n",
       "                }\n",
       "            }, 500);\n",
       "            "
      ],
      "text/plain": [
       "<IPython.core.display.Javascript object>"
      ]
     },
     "metadata": {},
     "output_type": "display_data"
    }
   ],
   "source": [
    "%matplotlib inline\n",
    "import matplotlib.pyplot as plt\n",
    "\n",
    "xv = u\n",
    "\n",
    "fig, ax = plt.subplots(1, 1, figsize=(8, 8))\n",
    "ax.set_aspect(\"equal\", \"box\")\n",
    "ax.scatter(xv[:, 0], xv[:, 1])\n",
    "\n",
    "for i, j in zip(range(len(points))[:-1], range(len(points))[1:]):\n",
    "    ax.plot([xv[i, 0], xv[j, 0]], [xv[i, 1], xv[j, 1]])\n",
    "\n",
    "for i in range(len(points)):\n",
    "    ax.annotate(str(i), (xv[i, 0].item() + 0.5, xv[i, 1].item() + 0.5))"
   ]
  }
 ],
 "metadata": {
  "kernelspec": {
   "display_name": "Python 3 (ipykernel)",
   "language": "python",
   "name": "python3"
  },
  "language_info": {
   "codemirror_mode": {
    "name": "ipython",
    "version": 3
   },
   "file_extension": ".py",
   "mimetype": "text/x-python",
   "name": "python",
   "nbconvert_exporter": "python",
   "pygments_lexer": "ipython3",
   "version": "3.8.10"
  }
 },
 "nbformat": 4,
 "nbformat_minor": 5
}
